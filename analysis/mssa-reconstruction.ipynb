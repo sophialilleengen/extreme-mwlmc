{
 "cells": [
  {
   "cell_type": "code",
   "execution_count": 1,
   "metadata": {},
   "outputs": [
    {
     "name": "stdout",
     "output_type": "stream",
     "text": [
      "/Users/slill/Documents/Projects/exp-extreme-MWLMC/extreme-mwlmc/analysis\n",
      "None\n",
      "\n",
      "%%%%%%%%%%%%%%%%%%%%%%%%%%%%%%%%%%%%%%%%%%%%%%%%%%%%%%%%%%%%%%%%%%%%%%%%%%%%%%%%\n",
      "%%%%% This is EXP 7.7.99 %%%%%%%%%%%%%%%%%%%%%%%%%%%%%%%%%%%%%%%%%%%%%%%%%%%%%%%\n",
      "%%%%%%%%%%%%%%%%%%%%%%%%%%%%%%%%%%%%%%%%%%%%%%%%%%%%%%%%%%%%%%%%%%%%%%%%%%%%%%%%\n",
      "%%%%% Repository URL | https://github.com/EXP-code/EXP                         %\n",
      "%%%%% Current branch | main                                                    %\n",
      "%%%%% Current commit | 9e0e023469e805de36da432e171ef03236741bc5                %\n",
      "%%%%% Compile time   | 2024-09-23 18:12:33 UTC                                 %\n",
      "%%%%%%%%%%%%%%%%%%%%%%%%%%%%%%%%%%%%%%%%%%%%%%%%%%%%%%%%%%%%%%%%%%%%%%%%%%%%%%%%\n",
      "\n"
     ]
    }
   ],
   "source": [
    "# import things\n",
    "\n",
    "import os\n",
    "# os.environ['KMP_DUPLICATE_LIB_OK']='True'\n",
    "# pwd = os.getcwd()\n",
    "# os.chdir('/Users/slill/Code/EXP/build/pyEXP/')\n",
    "# print(os.getcwd())\n",
    "import time\n",
    "import pyEXP\n",
    "# os.chdir(pwd)\n",
    "\n",
    "os.chdir('/Users/slill/Documents/Projects/exp-extreme-MWLMC/extreme-mwlmc/analysis/')\n",
    "\n",
    "print(os.getcwd())\n",
    "print(pyEXP.util.getVersionInfo())\n",
    "\n",
    "import numpy as np\n",
    "import matplotlib.pyplot as plt\n",
    "from matplotlib import colors\n",
    "\n",
    "import seaborn as sns   \n",
    "\n",
    "# plt.style.use('my_latex_standard2')\n",
    "\n",
    "\n",
    "datadir = '/Users/slill/Documents/Projects/exp-extreme-MWLMC/data/extreme-mwlmc'\n",
    "datadir_mssa = '/Users/slill/Documents/Projects/exp-extreme-MWLMC/data/mssa'\n",
    "\n",
    "runtag = 'RunG5'\n",
    "runtag2 = 'newG5'"
   ]
  },
  {
   "cell_type": "code",
   "execution_count": 2,
   "metadata": {},
   "outputs": [],
   "source": [
    "virialradius=122.0\n",
    "virialvelocity=119.\n",
    "massscale = virialvelocity**2 * virialradius / 0.0000043009125  \n",
    "\n"
   ]
  },
  {
   "cell_type": "code",
   "execution_count": 3,
   "metadata": {},
   "outputs": [],
   "source": [
    "# MW halo coefs\n",
    "mwhalo_coefs = pyEXP.coefs.Coefs.factory(f'{datadir}/outcoef.mwhalo.{runtag2}')\n",
    "mwhalo_keylst = mwhalo_coefs.makeKeys([])\n",
    "\n",
    "\n",
    "# MW disc coefs\n",
    "mwdisc_coefs = pyEXP.coefs.Coefs.factory(f'{datadir}/outcoef.mwdisk.{runtag}')\n",
    "mwdisc_keylst = mwdisc_coefs.makeKeys([])\n",
    "\n",
    "# LMC halo coefs\n",
    "lmchalo_coefs = pyEXP.coefs.Coefs.factory(f'{datadir}/outcoef.lmchalo.{runtag2}')\n",
    "lmchalo_coefs2 = pyEXP.coefs.Coefs.factory(f'{datadir}/outcoef.lmchalo.{runtag2}')\n",
    "lmchalo_keylst = lmchalo_coefs.makeKeys([])\n",
    "\n",
    "# LMC disc coefs\n",
    "lmcdisc_coefs = pyEXP.coefs.Coefs.factory(f'{datadir}/outcoef.lmc.{runtag2}')\n",
    "# lmcdisc_coefs = pyEXP.coefs.Coefs.factory(f'{datadir}/outcoef.lmcdisk.{runtag}')\n",
    "lmcdisc_keylst = lmcdisc_coefs.makeKeys([])\n"
   ]
  },
  {
   "cell_type": "code",
   "execution_count": 4,
   "metadata": {},
   "outputs": [
    {
     "name": "stdout",
     "output_type": "stream",
     "text": [
      "config MW halo\n",
      "---- SLGridSph::ReadH5Cache: successfully read basis cache <EinastoR20>\n",
      "Spherical::orthoTest: worst=0.000763606\n"
     ]
    }
   ],
   "source": [
    "### MW halo\n",
    "print(\"config MW halo\")\n",
    "mwhconfig = \"\"\"\n",
    "---\n",
    "id: sphereSL\n",
    "parameters :\n",
    "  numr     : 2000\n",
    "  rmin     : 0.00001\n",
    "  rmax     : 2.0\n",
    "  Lmax     : 6\n",
    "  nmax     : 20\n",
    "  rmapping : 0.0667\n",
    "  modelname : Einasto_rs0.07_rhos24.913_alpha0.16_rtrunc20.txt\n",
    "  cachename : EinastoR20\n",
    "\"\"\"\n",
    "\n",
    "mwhruntag = f'mwhalo.{runtag}'\n",
    "mwhbasis = pyEXP.basis.Basis.factory(mwhconfig)\n"
   ]
  },
  {
   "cell_type": "code",
   "execution_count": 5,
   "metadata": {},
   "outputs": [
    {
     "name": "stdout",
     "output_type": "stream",
     "text": [
      "config LMC halo\n",
      "---- SLGridSph::ReadH5Cache: successfully read basis cache <EinastoR33>\n",
      "Spherical::orthoTest: worst=0.00125842\n"
     ]
    }
   ],
   "source": [
    "### LMC halo\n",
    "print(\"config LMC halo\")\n",
    "lmchconfig = \"\"\"\n",
    "---\n",
    "id: sphereSL\n",
    "parameters :\n",
    "  numr     : 2000\n",
    "  rmin     : 0.00001\n",
    "  rmax     : 2.0\n",
    "  Lmax     : 6\n",
    "  nmax     : 20\n",
    "  rmapping : 0.0667\n",
    "  modelname : ./Einasto_rs0.035_rhos24.682_alpha0.16_rtrunc33.txt\n",
    "  cachename : EinastoR33\n",
    "\"\"\"\n",
    "\n",
    "lmchruntag = f'lmchalo.{runtag}'\n",
    "lmchbasis = pyEXP.basis.Basis.factory(lmchconfig)"
   ]
  },
  {
   "cell_type": "code",
   "execution_count": 6,
   "metadata": {},
   "outputs": [
    {
     "name": "stdout",
     "output_type": "stream",
     "text": [
      "/Users/slill/Documents/Projects/exp-extreme-MWLMC/data/extreme-mwlmc/MWeofcachenew\n",
      "MWeofcachenew path works? True\n",
      "/Users/slill/Documents/Projects/exp-extreme-MWLMC/data/extreme-mwlmc/LMCeofcachenew\n",
      "LMCeofcachenew path works? True\n"
     ]
    }
   ],
   "source": [
    "fname = f'{datadir}/MWeofcachenew'\n",
    "print(fname)\n",
    "\n",
    "print(f'MWeofcachenew path works? {os.path.isfile(fname)}')\n",
    "\n",
    "fname2 = f'{datadir}/LMCeofcachenew'\n",
    "print(fname2)\n",
    "print(f'LMCeofcachenew path works? {os.path.isfile(fname2)}')"
   ]
  },
  {
   "cell_type": "code",
   "execution_count": 7,
   "metadata": {},
   "outputs": [
    {
     "name": "stdout",
     "output_type": "stream",
     "text": [
      "config MW disc\n",
      "---- EmpCylSL::ReadH5Cache: read </Users/slill/Documents/Projects/exp-extreme-MWLMC/data/extreme-mwlmc/MWeofcachenew>\n",
      "---- EmpCylSL::read_cache: table forwarded to all processes\n",
      "Cylindrical::orthoTest: worst=0.000142087\n"
     ]
    }
   ],
   "source": [
    "### MW disc\n",
    "print(\"config MW disc\")\n",
    "\n",
    "mwdconfig=f\"\"\"\n",
    "id         : cylinder\n",
    "parameters :\n",
    "  acyl       : 0.029\n",
    "  hcyl       : 0.004\n",
    "  lmaxfid    : 72\n",
    "  mmax       : 6\n",
    "  nmaxfid    : 32\n",
    "  nmax       : 20\n",
    "  ncylodd    : 8\n",
    "  ncylnx     : 512\n",
    "  ncylny     : 256\n",
    "  rcylmin    : 0.001\n",
    "  rcylmax    : 100.0\n",
    "  cachename  : {datadir}/MWeofcachenew\n",
    "\"\"\"\n",
    "disc_basis = pyEXP.basis.Basis.factory(mwdconfig)"
   ]
  },
  {
   "cell_type": "code",
   "execution_count": 8,
   "metadata": {},
   "outputs": [
    {
     "name": "stdout",
     "output_type": "stream",
     "text": [
      "config LMC Disc\n",
      "---- EmpCylSL::ReadH5Cache: read </Users/slill/Documents/Projects/exp-extreme-MWLMC/data/extreme-mwlmc/LMCeofcachenew>\n",
      "---- EmpCylSL::read_cache: table forwarded to all processes\n",
      "Cylindrical::orthoTest: worst=0.000251818\n"
     ]
    }
   ],
   "source": [
    "### LMC disc\n",
    "print(\"config LMC Disc\")\n",
    "\n",
    "lmcdconfig=f\"\"\"\n",
    "id         : cylinder\n",
    "parameters :\n",
    "    acyl       : 0.014\n",
    "    hcyl       : 0.003\n",
    "    lmaxfid    : 72\n",
    "    mmax       : 6\n",
    "    nmaxfid    : 32\n",
    "    nmax       : 20\n",
    "    ncylodd    : 8\n",
    "    ncylnx     : 256\n",
    "    ncylny     : 128\n",
    "    rcylmin    : 0.001\n",
    "    rcylmax    : 200.0\n",
    "    cachename  : {datadir}/LMCeofcachenew\n",
    "\"\"\"\n",
    "#   #cachename  : {datadir}/LMCeofcache\n",
    "# cachename  : {datadir}/LMCeofcachenew\n",
    "# rnum       : 200 \n",
    "# pnum       : 1 \n",
    "# tnum       : 80 \n",
    "# vflag      : 16 \n",
    "# logr       : true \n",
    "# self_consistent : true\n",
    "\n",
    "lmcdruntag = f'lmcdisk.{runtag}'\n",
    "lmcdbasis = pyEXP.basis.Basis.factory(lmcdconfig)\n",
    "\n",
    "\n"
   ]
  },
  {
   "cell_type": "code",
   "execution_count": 9,
   "metadata": {},
   "outputs": [],
   "source": [
    "### mSSA\n",
    "# Make some parameter flags as YAML.  The defaults should work fine\n",
    "# for most people.  'chatty' turns on std::out diagnostics and\n",
    "# 'output' is the prefix for written files.\n",
    "#\n",
    "flags =\"\"\"\n",
    "---\n",
    "# chatty: on\n",
    "output: fulltest_default\n",
    "...\n",
    "\"\"\"\n"
   ]
  },
  {
   "cell_type": "code",
   "execution_count": 10,
   "metadata": {},
   "outputs": [],
   "source": [
    "# more entries here: MW halo MW disc, LMC halo LMC disc; each with coeffs and keylists; made keylist MW: m=6, disc m=4; LMC to 6 in both)\n",
    "config = {\n",
    "    \"MW halo\": (mwhalo_coefs, mwhalo_keylst, []),\n",
    "        #   \"MW disc\": (mwdisc_coefs, mwdisc_keylst, []),\n",
    "          # \"LMC halo\": (lmchalo_coefs, lmchalo_keylst, []),\n",
    "        #   \"LMC disc\": (lmcdisc_coefs, lmcdisc_keylst, [])\n",
    "          } \n",
    "\n",
    "window = int(len(mwhalo_coefs.Times())/2)\n",
    "npc = 100 # number of principal components; probably want more than 20; max number of PCs would be the window length\n"
   ]
  },
  {
   "cell_type": "code",
   "execution_count": 11,
   "metadata": {},
   "outputs": [
    {
     "name": "stdout",
     "output_type": "stream",
     "text": [
      "Window=805 PC number=100\n",
      "---- Eigen is using 10 threads\n"
     ]
    },
    {
     "ename": "",
     "evalue": "",
     "output_type": "error",
     "traceback": [
      "\u001b[1;31mThe Kernel crashed while executing code in the current cell or a previous cell. \n",
      "\u001b[1;31mPlease review the code in the cell(s) to identify a possible cause of the failure. \n",
      "\u001b[1;31mClick <a href='https://aka.ms/vscodeJupyterKernelCrash'>here</a> for more info. \n",
      "\u001b[1;31mView Jupyter <a href='command:jupyter.viewOutput'>log</a> for further details."
     ]
    }
   ],
   "source": [
    "# %%\n",
    "print(\"Window={} PC number={}\".format(window, npc))\n",
    "\n",
    "startTime = time.time()\n",
    "ssa = pyEXP.mssa.expMSSA(config, window, npc, flags)\n"
   ]
  },
  {
   "cell_type": "code",
   "execution_count": null,
   "metadata": {},
   "outputs": [
    {
     "ename": "",
     "evalue": "",
     "output_type": "error",
     "traceback": [
      "\u001b[1;31mCanceled future for execute_request message before replies were done"
     ]
    },
    {
     "ename": "",
     "evalue": "",
     "output_type": "error",
     "traceback": [
      "\u001b[1;31mCanceled future for execute_request message before replies were done. \n",
      "\u001b[1;31mView Jupyter <a href='command:jupyter.viewOutput'>log</a> for further details."
     ]
    },
    {
     "ename": "",
     "evalue": "",
     "output_type": "error",
     "traceback": [
      "\u001b[1;31mCanceled future for execute_request message before replies were done"
     ]
    },
    {
     "ename": "",
     "evalue": "",
     "output_type": "error",
     "traceback": [
      "\u001b[1;31mCanceled future for execute_request message before replies were done. \n",
      "\u001b[1;31mView Jupyter <a href='command:jupyter.viewOutput'>log</a> for further details."
     ]
    }
   ],
   "source": [
    "\n",
    "ev = ssa.eigenvalues() # do the decomposition (expensive step)\n",
    "print('Computed eigenvalues in {:6.2f} seconds'.format(time.time() - startTime))"
   ]
  },
  {
   "cell_type": "code",
   "execution_count": null,
   "metadata": {},
   "outputs": [],
   "source": [
    "# file = f'{datadir_mssa}/G5/traj_LMCH'\n",
    "# print('File={}'.format(file))\n",
    "# if os.path.exists(file+\"_mssa.h5\"):\n",
    "#     print('Restore file={}'.format(file))\n",
    "#     # ssa.restoreState(file)\n",
    "#     # totPow = ssa.getTotPow()\n",
    "#     # ev = ssa.eigenvalues()\n",
    "#     # cum = ssa.cumulative()\n",
    "# else:\n",
    "#     print('not found')"
   ]
  },
  {
   "cell_type": "code",
   "execution_count": null,
   "metadata": {},
   "outputs": [],
   "source": [
    "# ssa.reconstruct([0,2])\n",
    "# "
   ]
  },
  {
   "cell_type": "code",
   "execution_count": null,
   "metadata": {},
   "outputs": [],
   "source": []
  }
 ],
 "metadata": {
  "kernelspec": {
   "display_name": "Python 3 (ipykernel)",
   "language": "python",
   "name": "python3"
  },
  "language_info": {
   "codemirror_mode": {
    "name": "ipython",
    "version": 3
   },
   "file_extension": ".py",
   "mimetype": "text/x-python",
   "name": "python",
   "nbconvert_exporter": "python",
   "pygments_lexer": "ipython3",
   "version": "3.10.12"
  }
 },
 "nbformat": 4,
 "nbformat_minor": 2
}
