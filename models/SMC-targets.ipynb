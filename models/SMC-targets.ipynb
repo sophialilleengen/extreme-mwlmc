{
 "cells": [
  {
   "cell_type": "markdown",
   "metadata": {},
   "source": [
    "### **SMC targets**\n",
    "\n",
    "In this notebook, we calculate the SMC position and velocity with respect to the Milky Way and the LMC\n",
    "\n",
    "**TLDR wrt MW:** \n",
    "\n",
    "(x, y, z) in kpc (16.34994614, -37.91934686, -43.649422)\n",
    "            \n",
    "(v_x, v_y, v_z) in km / s (37.56326867, -168.08083441, 171.42433809)\n",
    "\n",
    "\n",
    "**TLDR wrt LMC:** \n",
    "\n",
    "(x, y, z) in kpc (16.96430711, 3.10102056, -16.81644735)\n",
    "            \n",
    "(v_x, v_y, v_z) in km / s (107.41914771, 53.60667972, -42.7283796)\n",
    "\n",
    "\n",
    "with **LMC values**\n",
    "\n",
    "(x, y, z) in kpc (-0.61436097, -41.02036742, -26.83297465)\n",
    "            \n",
    "(v_x, v_y, v_z) in km / s (-69.85587904, -221.68751413, 214.15271769)"
   ]
  },
  {
   "cell_type": "code",
   "execution_count": 5,
   "metadata": {},
   "outputs": [],
   "source": [
    "# import packages\n",
    "import numpy as np\n",
    "import matplotlib.pyplot as plt\n",
    "import pandas as pd\n",
    "\n",
    "from astropy import units as u\n",
    "from astropy import coordinates as coord\n",
    "from astropy.coordinates import SkyCoord\n",
    "\n",
    "import astropy"
   ]
  },
  {
   "cell_type": "code",
   "execution_count": 6,
   "metadata": {},
   "outputs": [],
   "source": [
    "# SMC values compiled from https://arxiv.org/pdf/2012.01771.pdf (Luri, Gaia Collab 2021)\n",
    "\n",
    "smc_ra = 12.8 * u.deg # https://arxiv.org/pdf/2012.01771.pdf (Luri, Gaia Collab 2021)\n",
    "smc_dec = -73.15 * u.deg # https://arxiv.org/pdf/2012.01771.pdf (Luri, Gaia Collab 2021)\n",
    "smc_dist = 62.8 * u.kpc # kpc # https://arxiv.org/pdf/2012.01771.pdf (Luri, Gaia Collab 2021) & Cioni 2000 https://ui.adsabs.harvard.edu/abs/2000A%26A...359..601C/abstract\n",
    "smc_pmra = 0.686 * u.mas/u.yr # mas/yr # https://arxiv.org/pdf/2012.01771.pdf (Luri, Gaia Collab 2021)\n",
    "smc_pmdec = -1.237 * u.mas/u.yr # mas/yr # https://arxiv.org/pdf/2012.01771.pdf (Luri, Gaia Collab 2021)\n",
    "smc_vrad = 145.6 * u.km/u.s # km/s # https://arxiv.org/pdf/2012.01771.pdf (Luri, Gaia Collab 2021) & Harris & Zaristky 2006 https://ui.adsabs.harvard.edu/abs/2006AJ....131.2514H/abstract\n",
    "\n"
   ]
  },
  {
   "cell_type": "code",
   "execution_count": 24,
   "metadata": {},
   "outputs": [
    {
     "name": "stdout",
     "output_type": "stream",
     "text": [
      "astropy 5.3.4\n",
      "<Galactocentric Frame (galcen_coord=<ICRS Coordinate: (ra, dec) in deg\n",
      "    (266.4051, -28.936175)>, galcen_distance=8.122 kpc, galcen_v_sun=(12.9, 245.6, 7.78) km / s, z_sun=20.8 pc, roll=0.0 deg)>\n",
      "{'galcen_coord': 'https://ui.adsabs.harvard.edu/abs/2004ApJ...616..872R', 'galcen_distance': 'https://ui.adsabs.harvard.edu/abs/2018A%26A...615L..15G', 'galcen_v_sun': ['https://ui.adsabs.harvard.edu/abs/2018RNAAS...2..210D', 'https://ui.adsabs.harvard.edu/abs/2018A%26A...615L..15G', 'https://ui.adsabs.harvard.edu/abs/2004ApJ...616..872R'], 'z_sun': 'https://ui.adsabs.harvard.edu/abs/2019MNRAS.482.1417B', 'roll': None}\n",
      "<SkyCoord (Galactocentric: galcen_coord=<ICRS Coordinate: (ra, dec) in deg\n",
      "    (266.4051, -28.936175)>, galcen_distance=8.122 kpc, galcen_v_sun=(12.9, 245.6, 7.78) km / s, z_sun=20.8 pc, roll=0.0 deg): (x, y, z) in kpc\n",
      "    (16.34994614, -37.91934686, -43.649422)\n",
      " (v_x, v_y, v_z) in km / s\n",
      "    (37.56326867, -168.08083441, 171.42433809)>\n"
     ]
    },
    {
     "data": {
      "text/plain": [
       "' Last updated print output 2024/03/01 (astropy 5.3.4)\\n<SkyCoord (Galactocentric: galcen_coord=<ICRS Coordinate: (ra, dec) in deg\\n    (266.4051, -28.936175)>, galcen_distance=8.122 kpc, galcen_v_sun=(12.9, 245.6, 7.78) km / s, z_sun=20.8 pc, roll=0.0 deg): (x, y, z) in kpc\\n    (16.34994614, -37.91934686, -43.649422)\\n (v_x, v_y, v_z) in km / s\\n    (37.56326867, -168.08083441, 171.42433809)>\\n'"
      ]
     },
     "execution_count": 24,
     "metadata": {},
     "output_type": "execute_result"
    }
   ],
   "source": [
    "# converting these values to Galactocentric values using astropys coordinates package\n",
    "# Galactocentric coordinates\n",
    "galcen = coord.Galactocentric()\n",
    "print(f'astropy {astropy.__version__}')\n",
    "print(galcen)\n",
    "print(galcen.frame_attribute_references)\n",
    "\n",
    "\"\"\" Last updated print outputs 2024/03/01 (astropy 5.3.4)\n",
    "\n",
    "<Galactocentric Frame (galcen_coord=<ICRS Coordinate: (ra, dec) in deg (266.4051, -28.936175)>, \n",
    "                        galcen_distance=8.122 kpc, \n",
    "                        galcen_v_sun=(12.9, 245.6, 7.78) km / s, \n",
    "                        z_sun=20.8 pc, roll=0.0 deg)>\n",
    "                    \n",
    "{'galcen_coord': 'https://ui.adsabs.harvard.edu/abs/2004ApJ...616..872R', \n",
    "'galcen_distance': 'https://ui.adsabs.harvard.edu/abs/2018A%26A...615L..15G', \n",
    "'galcen_v_sun': ['https://ui.adsabs.harvard.edu/abs/2018RNAAS...2..210D', \n",
    "                'https://ui.adsabs.harvard.edu/abs/2018A%26A...615L..15G', \n",
    "                'https://ui.adsabs.harvard.edu/abs/2004ApJ...616..872R'], \n",
    "'z_sun': 'https://ui.adsabs.harvard.edu/abs/2019MNRAS.482.1417B', \n",
    "'roll': None}\n",
    "\"\"\"\n",
    "\n",
    "# SMC object\n",
    "smc_skycoord = SkyCoord(\n",
    "                    ra=smc_ra, \n",
    "                    dec=smc_dec, \n",
    "                    distance=smc_dist, \n",
    "                    pm_ra_cosdec=smc_pmra, \n",
    "                    pm_dec=smc_pmdec, \n",
    "                    radial_velocity=smc_vrad, \n",
    "                    frame='icrs', \n",
    "                    obstime=\"J2016\"\n",
    "                )\n",
    "\n",
    "smc_galcen = smc_skycoord.transform_to(galcen)\n",
    "print(smc_galcen)\n",
    "\n",
    "\"\"\" Last updated print output 2024/03/01 (astropy 5.3.4)\n",
    "<SkyCoord (Galactocentric: galcen_coord=<ICRS Coordinate: (ra, dec) in deg\n",
    "    (266.4051, -28.936175)>, galcen_distance=8.122 kpc, galcen_v_sun=(12.9, 245.6, 7.78) km / s, z_sun=20.8 pc, roll=0.0 deg): (x, y, z) in kpc\n",
    "    (16.34994614, -37.91934686, -43.649422)\n",
    " (v_x, v_y, v_z) in km / s\n",
    "    (37.56326867, -168.08083441, 171.42433809)>\n",
    "\"\"\"\n"
   ]
  },
  {
   "cell_type": "code",
   "execution_count": 23,
   "metadata": {},
   "outputs": [
    {
     "name": "stdout",
     "output_type": "stream",
     "text": [
      "[ 16.96430711   3.10102056 -16.81644735] kpc\n",
      "[107.41914771  53.60667972 -42.7283796 ] km / s\n"
     ]
    }
   ],
   "source": [
    "# wrt LMC\n",
    "\n",
    "lmc_ra = 81.28 * u.deg # https://arxiv.org/pdf/2012.01771.pdf (Luri, Gaia Collab 2021)\n",
    "lmc_dec = -69.78 * u.deg # https://arxiv.org/pdf/2012.01771.pdf (Luri, Gaia Collab 2021)\n",
    "lmc_dist = 49.6 * u.kpc # kpc # https://www.nature.com/articles/s41586-019-0999-4 (Pietrzynski et al 2019)\n",
    "lmc_pmra = 1.858 * u.mas/u.yr # mas/yr # https://arxiv.org/pdf/2012.01771.pdf (Luri, Gaia Collab 2021)\n",
    "lmc_pmdec = 0.385 * u.mas/u.yr # mas/yr # https://arxiv.org/pdf/2012.01771.pdf (Luri, Gaia Collab 2021)\n",
    "lmc_vrad = 262.2 * u.km/u.s # km/s # https://iopscience.iop.org/article/10.1086/343775 (van der Marel et al 2002)\n",
    "\n",
    "\n",
    "lmc_skycoord = SkyCoord(\n",
    "                    ra=lmc_ra, \n",
    "                    dec=lmc_dec, \n",
    "                    distance=lmc_dist, \n",
    "                    pm_ra_cosdec=lmc_pmra, \n",
    "                    pm_dec=lmc_pmdec, \n",
    "                    radial_velocity=lmc_vrad, \n",
    "                    frame='icrs', \n",
    "                    obstime=\"J2016\"\n",
    "                )\n",
    "\n",
    "lmc_galcen = lmc_skycoord.transform_to(galcen)\n",
    "\n",
    "# position offsets \n",
    "print(smc_galcen.cartesian.xyz - lmc_galcen.cartesian.xyz)\n",
    "print(smc_galcen.velocity.d_xyz - lmc_galcen.velocity.d_xyz)"
   ]
  },
  {
   "cell_type": "code",
   "execution_count": null,
   "metadata": {},
   "outputs": [],
   "source": []
  }
 ],
 "metadata": {
  "kernelspec": {
   "display_name": "base",
   "language": "python",
   "name": "python3"
  },
  "language_info": {
   "codemirror_mode": {
    "name": "ipython",
    "version": 3
   },
   "file_extension": ".py",
   "mimetype": "text/x-python",
   "name": "python",
   "nbconvert_exporter": "python",
   "pygments_lexer": "ipython3",
   "version": "3.11.6"
  }
 },
 "nbformat": 4,
 "nbformat_minor": 2
}
