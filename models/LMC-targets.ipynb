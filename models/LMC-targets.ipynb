{
 "cells": [
  {
   "cell_type": "markdown",
   "metadata": {},
   "source": [
    "### **LMC targets**\n",
    "\n",
    "In this notebook, we calculate the target LMC position, velocity and orientation of the disc\n",
    "\n",
    "TLDR: \n",
    "\n",
    "(x, y, z) in kpc (-0.61436097, -41.02036742, -26.83297465)\n",
    "            \n",
    "(v_x, v_y, v_z) in km / s (-69.85587904, -221.68751413, 214.15271769)"
   ]
  },
  {
   "cell_type": "code",
   "execution_count": 2,
   "metadata": {},
   "outputs": [],
   "source": [
    "# import packages\n",
    "import numpy as np\n",
    "import matplotlib.pyplot as plt\n",
    "import pandas as pd\n",
    "\n",
    "from astropy import units as u\n",
    "from astropy import coordinates as coord\n",
    "from astropy.coordinates import SkyCoord\n",
    "\n",
    "import astropy"
   ]
  },
  {
   "cell_type": "code",
   "execution_count": 3,
   "metadata": {},
   "outputs": [],
   "source": [
    "# LMC values compiled from https://arxiv.org/pdf/2304.09136.pdf (Vasiliev 2023)\n",
    "\n",
    "lmc_ra = 81.28 * u.deg # https://arxiv.org/pdf/2012.01771.pdf (Luri, Gaia Collab 2021)\n",
    "lmc_dec = -69.78 * u.deg # https://arxiv.org/pdf/2012.01771.pdf (Luri, Gaia Collab 2021)\n",
    "lmc_dist = 49.6 * u.kpc # kpc # https://www.nature.com/articles/s41586-019-0999-4 (Pietrzynski et al 2019)\n",
    "lmc_pmra = 1.858 * u.mas/u.yr # mas/yr # https://arxiv.org/pdf/2012.01771.pdf (Luri, Gaia Collab 2021)\n",
    "lmc_pmdec = 0.385 * u.mas/u.yr # mas/yr # https://arxiv.org/pdf/2012.01771.pdf (Luri, Gaia Collab 2021)\n",
    "lmc_vrad = 262.2 * u.km/u.s # km/s # https://iopscience.iop.org/article/10.1086/343775 (van der Marel et al 2002)\n",
    "\n",
    "# LMC disc values from Luri, Gaia Collab 2021 (used above): https://arxiv.org/pdf/2012.01771.pdf\n",
    "lmc_disc_ra = 81.28 * u.deg\n",
    "lmc_disc_dec = -69.78 * u.deg\n",
    "lmc_mx0 = 1.858 * u.mas/u.yr\n",
    "lmc_my0 = 0.385 * u.mas/u.yr\n",
    "lmc_mz0 = 1.115 * u.mas/u.yr\n",
    "\n",
    "# LMC orientation from Choi et al 2018 https://arxiv.org/abs/1804.07765\n",
    "# rotation matrices given in van der Marel et al 2002 and implemented further below\n",
    "lmc_i = 26 * u.deg # inclination\n",
    "lmc_theta = 149 * u.deg # line-of-node position angle\n",
    "\n",
    "\n"
   ]
  },
  {
   "cell_type": "code",
   "execution_count": 4,
   "metadata": {},
   "outputs": [
    {
     "name": "stdout",
     "output_type": "stream",
     "text": [
      "astropy 5.3.4\n",
      "<Galactocentric Frame (galcen_coord=<ICRS Coordinate: (ra, dec) in deg\n",
      "    (266.4051, -28.936175)>, galcen_distance=8.122 kpc, galcen_v_sun=(12.9, 245.6, 7.78) km / s, z_sun=20.8 pc, roll=0.0 deg)>\n",
      "{'galcen_coord': 'https://ui.adsabs.harvard.edu/abs/2004ApJ...616..872R', 'galcen_distance': 'https://ui.adsabs.harvard.edu/abs/2018A%26A...615L..15G', 'galcen_v_sun': ['https://ui.adsabs.harvard.edu/abs/2018RNAAS...2..210D', 'https://ui.adsabs.harvard.edu/abs/2018A%26A...615L..15G', 'https://ui.adsabs.harvard.edu/abs/2004ApJ...616..872R'], 'z_sun': 'https://ui.adsabs.harvard.edu/abs/2019MNRAS.482.1417B', 'roll': None}\n",
      "<SkyCoord (Galactocentric: galcen_coord=<ICRS Coordinate: (ra, dec) in deg\n",
      "    (266.4051, -28.936175)>, galcen_distance=8.122 kpc, galcen_v_sun=(12.9, 245.6, 7.78) km / s, z_sun=20.8 pc, roll=0.0 deg): (x, y, z) in kpc\n",
      "    (-0.61436097, -41.02036742, -26.83297465)\n",
      " (v_x, v_y, v_z) in km / s\n",
      "    (-69.85587904, -221.68751413, 214.15271769)>\n"
     ]
    },
    {
     "data": {
      "text/plain": [
       "' Last updated print output 2023/11/13 (astropy 5.3.4)\\n<SkyCoord (Galactocentric: galcen_coord=<ICRS Coordinate: (ra, dec) in deg (266.4051, -28.936175)>, \\n            galcen_distance=8.122 kpc, galcen_v_sun=(12.9, 245.6, 7.78) km / s, z_sun=20.8 pc, roll=0.0 deg): \\n            (x, y, z) in kpc (-0.61436097, -41.02036742, -26.83297465)\\n            (v_x, v_y, v_z) in km / s (-69.85587904, -221.68751413, 214.15271769)>\\n'"
      ]
     },
     "execution_count": 4,
     "metadata": {},
     "output_type": "execute_result"
    }
   ],
   "source": [
    "# converting these values to Galactocentric values using astropys coordinates package\n",
    "# Galactocentric coordinates\n",
    "galcen = coord.Galactocentric()\n",
    "print(f'astropy {astropy.__version__}')\n",
    "print(galcen)\n",
    "print(galcen.frame_attribute_references)\n",
    "\n",
    "\"\"\" Last updated print outputs 2023/11/13 (astropy 5.3.4)\n",
    "\n",
    "<Galactocentric Frame (galcen_coord=<ICRS Coordinate: (ra, dec) in deg (266.4051, -28.936175)>, \n",
    "                        galcen_distance=8.122 kpc, \n",
    "                        galcen_v_sun=(12.9, 245.6, 7.78) km / s, \n",
    "                        z_sun=20.8 pc, roll=0.0 deg)>\n",
    "                    \n",
    "{'galcen_coord': 'https://ui.adsabs.harvard.edu/abs/2004ApJ...616..872R', \n",
    "'galcen_distance': 'https://ui.adsabs.harvard.edu/abs/2018A%26A...615L..15G', \n",
    "'galcen_v_sun': ['https://ui.adsabs.harvard.edu/abs/2018RNAAS...2..210D', \n",
    "                'https://ui.adsabs.harvard.edu/abs/2018A%26A...615L..15G', \n",
    "                'https://ui.adsabs.harvard.edu/abs/2004ApJ...616..872R'], \n",
    "'z_sun': 'https://ui.adsabs.harvard.edu/abs/2019MNRAS.482.1417B', \n",
    "'roll': None}\n",
    "\"\"\"\n",
    "\n",
    "# LMC object\n",
    "lmc_skycoord = SkyCoord(\n",
    "                    ra=lmc_ra, \n",
    "                    dec=lmc_dec, \n",
    "                    distance=lmc_dist, \n",
    "                    pm_ra_cosdec=lmc_pmra, \n",
    "                    pm_dec=lmc_pmdec, \n",
    "                    radial_velocity=lmc_vrad, \n",
    "                    frame='icrs', \n",
    "                    obstime=\"J2016\"\n",
    "                )\n",
    "\n",
    "lmc_galcen = lmc_skycoord.transform_to(galcen)\n",
    "print(lmc_galcen)\n",
    "\n",
    "\"\"\" Last updated print output 2023/11/13 (astropy 5.3.4)\n",
    "<SkyCoord (Galactocentric: galcen_coord=<ICRS Coordinate: (ra, dec) in deg (266.4051, -28.936175)>, \n",
    "            galcen_distance=8.122 kpc, galcen_v_sun=(12.9, 245.6, 7.78) km / s, z_sun=20.8 pc, roll=0.0 deg): \n",
    "            (x, y, z) in kpc (-0.61436097, -41.02036742, -26.83297465)\n",
    "            (v_x, v_y, v_z) in km / s (-69.85587904, -221.68751413, 214.15271769)>\n",
    "\"\"\"\n"
   ]
  },
  {
   "cell_type": "markdown",
   "metadata": {},
   "source": [
    "(x, y, z) in kpc\n",
    "    (-0.61436097, -41.02036742, -26.83297465)\n",
    " (v_x, v_y, v_z) in km / s\n",
    "    (-69.85587904, -221.68751413, 214.15271769)>"
   ]
  },
  {
   "cell_type": "markdown",
   "metadata": {},
   "source": [
    "#### **LMC rotation**\n",
    "\n",
    "A very good description of rotation matrices w.r.t. the LMC is given in van der Marel et al 2002. I implement these here\n"
   ]
  },
  {
   "cell_type": "code",
   "execution_count": 26,
   "metadata": {},
   "outputs": [],
   "source": [
    "def cartesian_LMC_to_galactocentric(x_LMC, y_LMC, z_LMC, i_LMC=26*u.deg, theta_LMC=149*u.deg):\n",
    "    \"\"\"\n",
    "    Convert  LMC cartesian coordinates to Galactocentric cartesian coordinates\n",
    "    \"\"\"\n",
    "    # rotation matrices from van der Marel et al 2002\n",
    "    i_LMC = i_LMC.to(u.rad).value\n",
    "    theta_LMC = theta_LMC.to(u.rad).value\n",
    "    \n",
    "    R_LMC = np.array([[np.cos(theta_LMC), -np.sin(theta_LMC) * np.cos(i_LMC), -np.sin(theta_LMC) * np.sin(i_LMC)],\n",
    "                      [np.sin(theta_LMC), np.cos(theta_LMC) * np.cos(i_LMC), np.cos(theta_LMC) * np.sin(i_LMC)],\n",
    "                      [0, -np.sin(i_LMC), np.cos(i_LMC)]])\n",
    "    \n",
    "    vec_LMC = np.vstack((x_LMC, y_LMC, z_LMC))\n",
    "    \n",
    "    return np.matmul(R_LMC, vec_LMC)\n",
    "    "
   ]
  },
  {
   "cell_type": "code",
   "execution_count": 28,
   "metadata": {},
   "outputs": [
    {
     "name": "stdout",
     "output_type": "stream",
     "text": [
      "single values\n",
      " [[-2.46032711]\n",
      " [-2.1530679 ]\n",
      " [ 1.81963985]]\n",
      "arrays\n",
      " [[-2.46032711 -4.00618539 -5.55204368 -7.09790197]\n",
      " [-2.1530679  -2.7842041  -3.4153403  -4.04647651]\n",
      " [ 1.81963985  2.28006274  2.74048564  3.20090854]]\n"
     ]
    }
   ],
   "source": [
    "# test that cartesian_LMC_to_galactocentric_position works for single values and arrays\n",
    "a, b, c = 1, 2, 3\n",
    "print(\"single values\\n\", cartesian_LMC_to_galactocentric(a, b, c))\n",
    "\n",
    "a = np.array([1,2,3,4]) \n",
    "b = np.array([2,3,4,5]) \n",
    "c = np.array([3,4,5,6])\n",
    "\n",
    "print(\"arrays\\n\", cartesian_LMC_to_galactocentric(a, b, c))"
   ]
  },
  {
   "cell_type": "code",
   "execution_count": null,
   "metadata": {},
   "outputs": [],
   "source": []
  }
 ],
 "metadata": {
  "kernelspec": {
   "display_name": "base",
   "language": "python",
   "name": "python3"
  },
  "language_info": {
   "codemirror_mode": {
    "name": "ipython",
    "version": 3
   },
   "file_extension": ".py",
   "mimetype": "text/x-python",
   "name": "python",
   "nbconvert_exporter": "python",
   "pygments_lexer": "ipython3",
   "version": "3.11.6"
  }
 },
 "nbformat": 4,
 "nbformat_minor": 2
}
